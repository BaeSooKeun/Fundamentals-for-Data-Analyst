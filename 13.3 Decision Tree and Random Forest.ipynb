{
 "cells": [
  {
   "cell_type": "markdown",
   "id": "c1ddb82b",
   "metadata": {},
   "source": [
    "### 의사결정나무와 랜덤포레스트"
   ]
  },
  {
   "cell_type": "code",
   "execution_count": 25,
   "id": "95ed1c5c",
   "metadata": {},
   "outputs": [],
   "source": [
    "# 필요한 패키지 설치\n",
    "from sklearn.preprocessing import MinMaxScaler\n",
    "from sklearn.model_selection import train_test_split\n",
    "from sklearn.tree import DecisionTreeClassifier\n",
    "import pydotplus\n",
    "from sklearn.tree import export_graphviz\n",
    "from IPython.core.display import Image\n",
    "from sklearn.metrics import accuracy_score\n",
    "from sklearn.ensemble import RandomForestClassifier\n",
    "from sklearn.metrics import classification_report\n",
    "import pandas as pd\n",
    "import numpy as np\n",
    "import seaborn as sns\n",
    "import matplotlib.pyplot as plt"
   ]
  },
  {
   "cell_type": "code",
   "execution_count": 14,
   "id": "aacef5ed",
   "metadata": {},
   "outputs": [
    {
     "data": {
      "text/html": [
       "<div>\n",
       "<style scoped>\n",
       "    .dataframe tbody tr th:only-of-type {\n",
       "        vertical-align: middle;\n",
       "    }\n",
       "\n",
       "    .dataframe tbody tr th {\n",
       "        vertical-align: top;\n",
       "    }\n",
       "\n",
       "    .dataframe thead th {\n",
       "        text-align: right;\n",
       "    }\n",
       "</style>\n",
       "<table border=\"1\" class=\"dataframe\">\n",
       "  <thead>\n",
       "    <tr style=\"text-align: right;\">\n",
       "      <th></th>\n",
       "      <th>RI</th>\n",
       "      <th>Na</th>\n",
       "      <th>Mg</th>\n",
       "      <th>Al</th>\n",
       "      <th>Si</th>\n",
       "      <th>K</th>\n",
       "      <th>Ca</th>\n",
       "      <th>Ba</th>\n",
       "      <th>Fe</th>\n",
       "      <th>Type</th>\n",
       "    </tr>\n",
       "  </thead>\n",
       "  <tbody>\n",
       "    <tr>\n",
       "      <th>0</th>\n",
       "      <td>1.52101</td>\n",
       "      <td>13.64</td>\n",
       "      <td>4.49</td>\n",
       "      <td>1.10</td>\n",
       "      <td>71.78</td>\n",
       "      <td>0.06</td>\n",
       "      <td>8.75</td>\n",
       "      <td>0.0</td>\n",
       "      <td>0.0</td>\n",
       "      <td>1</td>\n",
       "    </tr>\n",
       "    <tr>\n",
       "      <th>1</th>\n",
       "      <td>1.51761</td>\n",
       "      <td>13.89</td>\n",
       "      <td>3.60</td>\n",
       "      <td>1.36</td>\n",
       "      <td>72.73</td>\n",
       "      <td>0.48</td>\n",
       "      <td>7.83</td>\n",
       "      <td>0.0</td>\n",
       "      <td>0.0</td>\n",
       "      <td>1</td>\n",
       "    </tr>\n",
       "    <tr>\n",
       "      <th>2</th>\n",
       "      <td>1.51618</td>\n",
       "      <td>13.53</td>\n",
       "      <td>3.55</td>\n",
       "      <td>1.54</td>\n",
       "      <td>72.99</td>\n",
       "      <td>0.39</td>\n",
       "      <td>7.78</td>\n",
       "      <td>0.0</td>\n",
       "      <td>0.0</td>\n",
       "      <td>1</td>\n",
       "    </tr>\n",
       "    <tr>\n",
       "      <th>3</th>\n",
       "      <td>1.51766</td>\n",
       "      <td>13.21</td>\n",
       "      <td>3.69</td>\n",
       "      <td>1.29</td>\n",
       "      <td>72.61</td>\n",
       "      <td>0.57</td>\n",
       "      <td>8.22</td>\n",
       "      <td>0.0</td>\n",
       "      <td>0.0</td>\n",
       "      <td>1</td>\n",
       "    </tr>\n",
       "    <tr>\n",
       "      <th>4</th>\n",
       "      <td>1.51742</td>\n",
       "      <td>13.27</td>\n",
       "      <td>3.62</td>\n",
       "      <td>1.24</td>\n",
       "      <td>73.08</td>\n",
       "      <td>0.55</td>\n",
       "      <td>8.07</td>\n",
       "      <td>0.0</td>\n",
       "      <td>0.0</td>\n",
       "      <td>1</td>\n",
       "    </tr>\n",
       "  </tbody>\n",
       "</table>\n",
       "</div>"
      ],
      "text/plain": [
       "        RI     Na    Mg    Al     Si     K    Ca   Ba   Fe  Type\n",
       "0  1.52101  13.64  4.49  1.10  71.78  0.06  8.75  0.0  0.0     1\n",
       "1  1.51761  13.89  3.60  1.36  72.73  0.48  7.83  0.0  0.0     1\n",
       "2  1.51618  13.53  3.55  1.54  72.99  0.39  7.78  0.0  0.0     1\n",
       "3  1.51766  13.21  3.69  1.29  72.61  0.57  8.22  0.0  0.0     1\n",
       "4  1.51742  13.27  3.62  1.24  73.08  0.55  8.07  0.0  0.0     1"
      ]
     },
     "execution_count": 14,
     "metadata": {},
     "output_type": "execute_result"
    }
   ],
   "source": [
    "# 데이터 불러오기\n",
    "# https://www.kaggle.com/datasets/uciml/glass\n",
    "df = pd.read_csv(\"glass.csv\")\n",
    "\n",
    "# 데이터 샘플 확인\n",
    "df.head()"
   ]
  },
  {
   "cell_type": "code",
   "execution_count": 15,
   "id": "3cb313ab",
   "metadata": {},
   "outputs": [
    {
     "name": "stdout",
     "output_type": "stream",
     "text": [
      "<class 'pandas.core.frame.DataFrame'>\n",
      "RangeIndex: 214 entries, 0 to 213\n",
      "Data columns (total 10 columns):\n",
      " #   Column  Non-Null Count  Dtype  \n",
      "---  ------  --------------  -----  \n",
      " 0   RI      214 non-null    float64\n",
      " 1   Na      214 non-null    float64\n",
      " 2   Mg      214 non-null    float64\n",
      " 3   Al      214 non-null    float64\n",
      " 4   Si      214 non-null    float64\n",
      " 5   K       214 non-null    float64\n",
      " 6   Ca      214 non-null    float64\n",
      " 7   Ba      214 non-null    float64\n",
      " 8   Fe      214 non-null    float64\n",
      " 9   Type    214 non-null    int64  \n",
      "dtypes: float64(9), int64(1)\n",
      "memory usage: 16.8 KB\n"
     ]
    }
   ],
   "source": [
    "# 컬럼 정보 확인\n",
    "\n",
    "df.info()\n",
    "\n",
    "#속성과 결측값을 확인해보자. 결측값은 없고 모든 칼럼이 숫자형으로 이루어져 있다.\n",
    "#종속변수로 쓰이는 Type칼럼을 문자형 변수로 변환해줘야 한다."
   ]
  },
  {
   "cell_type": "code",
   "execution_count": 16,
   "id": "32b77a30",
   "metadata": {},
   "outputs": [
    {
     "data": {
      "text/html": [
       "<div>\n",
       "<style scoped>\n",
       "    .dataframe tbody tr th:only-of-type {\n",
       "        vertical-align: middle;\n",
       "    }\n",
       "\n",
       "    .dataframe tbody tr th {\n",
       "        vertical-align: top;\n",
       "    }\n",
       "\n",
       "    .dataframe thead th {\n",
       "        text-align: right;\n",
       "    }\n",
       "</style>\n",
       "<table border=\"1\" class=\"dataframe\">\n",
       "  <thead>\n",
       "    <tr style=\"text-align: right;\">\n",
       "      <th></th>\n",
       "      <th>RI</th>\n",
       "      <th>Na</th>\n",
       "      <th>Mg</th>\n",
       "      <th>Al</th>\n",
       "      <th>Si</th>\n",
       "      <th>K</th>\n",
       "      <th>Ca</th>\n",
       "      <th>Ba</th>\n",
       "      <th>Fe</th>\n",
       "      <th>Type</th>\n",
       "      <th>Type_str</th>\n",
       "    </tr>\n",
       "  </thead>\n",
       "  <tbody>\n",
       "    <tr>\n",
       "      <th>0</th>\n",
       "      <td>1.52101</td>\n",
       "      <td>13.64</td>\n",
       "      <td>4.49</td>\n",
       "      <td>1.10</td>\n",
       "      <td>71.78</td>\n",
       "      <td>0.06</td>\n",
       "      <td>8.75</td>\n",
       "      <td>0.0</td>\n",
       "      <td>0.0</td>\n",
       "      <td>1</td>\n",
       "      <td>1</td>\n",
       "    </tr>\n",
       "    <tr>\n",
       "      <th>1</th>\n",
       "      <td>1.51761</td>\n",
       "      <td>13.89</td>\n",
       "      <td>3.60</td>\n",
       "      <td>1.36</td>\n",
       "      <td>72.73</td>\n",
       "      <td>0.48</td>\n",
       "      <td>7.83</td>\n",
       "      <td>0.0</td>\n",
       "      <td>0.0</td>\n",
       "      <td>1</td>\n",
       "      <td>1</td>\n",
       "    </tr>\n",
       "    <tr>\n",
       "      <th>2</th>\n",
       "      <td>1.51618</td>\n",
       "      <td>13.53</td>\n",
       "      <td>3.55</td>\n",
       "      <td>1.54</td>\n",
       "      <td>72.99</td>\n",
       "      <td>0.39</td>\n",
       "      <td>7.78</td>\n",
       "      <td>0.0</td>\n",
       "      <td>0.0</td>\n",
       "      <td>1</td>\n",
       "      <td>1</td>\n",
       "    </tr>\n",
       "    <tr>\n",
       "      <th>3</th>\n",
       "      <td>1.51766</td>\n",
       "      <td>13.21</td>\n",
       "      <td>3.69</td>\n",
       "      <td>1.29</td>\n",
       "      <td>72.61</td>\n",
       "      <td>0.57</td>\n",
       "      <td>8.22</td>\n",
       "      <td>0.0</td>\n",
       "      <td>0.0</td>\n",
       "      <td>1</td>\n",
       "      <td>1</td>\n",
       "    </tr>\n",
       "    <tr>\n",
       "      <th>4</th>\n",
       "      <td>1.51742</td>\n",
       "      <td>13.27</td>\n",
       "      <td>3.62</td>\n",
       "      <td>1.24</td>\n",
       "      <td>73.08</td>\n",
       "      <td>0.55</td>\n",
       "      <td>8.07</td>\n",
       "      <td>0.0</td>\n",
       "      <td>0.0</td>\n",
       "      <td>1</td>\n",
       "      <td>1</td>\n",
       "    </tr>\n",
       "  </tbody>\n",
       "</table>\n",
       "</div>"
      ],
      "text/plain": [
       "        RI     Na    Mg    Al     Si     K    Ca   Ba   Fe  Type Type_str\n",
       "0  1.52101  13.64  4.49  1.10  71.78  0.06  8.75  0.0  0.0     1        1\n",
       "1  1.51761  13.89  3.60  1.36  72.73  0.48  7.83  0.0  0.0     1        1\n",
       "2  1.51618  13.53  3.55  1.54  72.99  0.39  7.78  0.0  0.0     1        1\n",
       "3  1.51766  13.21  3.69  1.29  72.61  0.57  8.22  0.0  0.0     1        1\n",
       "4  1.51742  13.27  3.62  1.24  73.08  0.55  8.07  0.0  0.0     1        1"
      ]
     },
     "execution_count": 16,
     "metadata": {},
     "output_type": "execute_result"
    }
   ],
   "source": [
    "# 종속변수 문자형 변환\n",
    "\n",
    "df[\"Type_str\"]=df[\"Type\"].apply(str)\n",
    "df.head()\n",
    "\n"
   ]
  },
  {
   "cell_type": "markdown",
   "id": "a4f92c07",
   "metadata": {},
   "source": [
    "###### 기존 Type 칼럼에 apply(str) 함수를 적용하여 문자형으로 변환된 Type_str 칼럼을 새로 생성했다. 모델에서는 기존 Type 칼럼은 사용되지 않는다."
   ]
  },
  {
   "cell_type": "code",
   "execution_count": 17,
   "id": "9908ba95",
   "metadata": {},
   "outputs": [
    {
     "name": "stdout",
     "output_type": "stream",
     "text": [
      "train data 개수:  128\n",
      "test data 개수:  86\n"
     ]
    }
   ],
   "source": [
    "# 의사결정나무 모델 용 데이터셋 가공\n",
    "\n",
    "# 독립변수, 종속변수 분리\n",
    "df_x = df[['RI','Na','Mg','Al','Si','K','Ca','Ba','Fe']]\n",
    "df_y = df[['Type_str']]\n",
    "\n",
    "# 학습셋과 테스트셋 분리하여 생성(6:4)\n",
    "x_train, x_test, y_train, y_test = train_test_split(\n",
    "    df_x,df_y,test_size=0.4,random_state=10)\n",
    "\n",
    "# 학습셋과 검증셋이 잘 나뉘었는지 확인\n",
    "print('train data 개수: ', len(x_train))\n",
    "print('test data 개수: ', len(x_test))\n",
    "\n"
   ]
  },
  {
   "cell_type": "markdown",
   "id": "6fd927d7",
   "metadata": {},
   "source": [
    "###### 데이터셋을 의사결정나무 모델에 적용하기 위해 독립변수와 종속변수를 분리하고 학습셋과 테스트셋으로 나눠준다.기존 데이터의 관측치 수가 214개로 적은편이기 때문에 6:4의 비율로 설정해준다.아웃풋 결과로 학습셋 128개 테스트셋 86개로 배분된 것을 확인할 수 있다."
   ]
  },
  {
   "cell_type": "code",
   "execution_count": 18,
   "id": "d6b84143",
   "metadata": {},
   "outputs": [
    {
     "data": {
      "text/plain": [
       "0.6627906976744186"
      ]
     },
     "execution_count": 18,
     "metadata": {},
     "output_type": "execute_result"
    }
   ],
   "source": [
    "# 의사결정나무 모델 적용\n",
    "\n",
    "# 모델 생성 및 학습\n",
    "dt_model = DecisionTreeClassifier(criterion = \"entropy\", max_depth=5)\n",
    "dt_model.fit(x_train,y_train)\n",
    "\n",
    "# 테스트셋 예측\n",
    "y_pred = dt_model.predict(x_test)\n",
    "\n",
    "# 정확도 계산\n",
    "accuracy_score(y_test, y_pred)\n",
    "\n",
    "#이제 의사결정나무 모델로 유리타입 분류 모델을 학습시킨다. 옵션으로 엔트로피로 분류를 하도록 설정했다.\n",
    "#노드의 층이 최대 5개까지만 생성되도록 했고 이는, 과적합 방지하기 위한 방법으로 최대 층이 너무 많으면 모델이 너무 복잡해서 과적합이 생길 수 있다.\n",
    "#아웃풋 결과에서 분류 정확도가 약 61.6%인 것을 알 수 있다. 종속변수의 카테고리가 총 7개인 것을 고려하면 나쁘지 않은 성능인 것으로 보인다."
   ]
  },
  {
   "cell_type": "code",
   "execution_count": 19,
   "id": "c6cbe43f",
   "metadata": {},
   "outputs": [
    {
     "data": {
      "text/html": [
       "<div>\n",
       "<style scoped>\n",
       "    .dataframe tbody tr th:only-of-type {\n",
       "        vertical-align: middle;\n",
       "    }\n",
       "\n",
       "    .dataframe tbody tr th {\n",
       "        vertical-align: top;\n",
       "    }\n",
       "\n",
       "    .dataframe thead th {\n",
       "        text-align: right;\n",
       "    }\n",
       "</style>\n",
       "<table border=\"1\" class=\"dataframe\">\n",
       "  <thead>\n",
       "    <tr style=\"text-align: right;\">\n",
       "      <th></th>\n",
       "      <th>feature</th>\n",
       "      <th>importance</th>\n",
       "    </tr>\n",
       "  </thead>\n",
       "  <tbody>\n",
       "    <tr>\n",
       "      <th>0</th>\n",
       "      <td>RI</td>\n",
       "      <td>0.085300</td>\n",
       "    </tr>\n",
       "    <tr>\n",
       "      <th>1</th>\n",
       "      <td>Na</td>\n",
       "      <td>0.105294</td>\n",
       "    </tr>\n",
       "    <tr>\n",
       "      <th>2</th>\n",
       "      <td>Mg</td>\n",
       "      <td>0.320142</td>\n",
       "    </tr>\n",
       "    <tr>\n",
       "      <th>3</th>\n",
       "      <td>Al</td>\n",
       "      <td>0.215306</td>\n",
       "    </tr>\n",
       "    <tr>\n",
       "      <th>4</th>\n",
       "      <td>Si</td>\n",
       "      <td>0.100123</td>\n",
       "    </tr>\n",
       "    <tr>\n",
       "      <th>5</th>\n",
       "      <td>K</td>\n",
       "      <td>0.000000</td>\n",
       "    </tr>\n",
       "    <tr>\n",
       "      <th>6</th>\n",
       "      <td>Ca</td>\n",
       "      <td>0.133502</td>\n",
       "    </tr>\n",
       "    <tr>\n",
       "      <th>7</th>\n",
       "      <td>Ba</td>\n",
       "      <td>0.026172</td>\n",
       "    </tr>\n",
       "    <tr>\n",
       "      <th>8</th>\n",
       "      <td>Fe</td>\n",
       "      <td>0.014162</td>\n",
       "    </tr>\n",
       "  </tbody>\n",
       "</table>\n",
       "</div>"
      ],
      "text/plain": [
       "  feature  importance\n",
       "0      RI    0.085300\n",
       "1      Na    0.105294\n",
       "2      Mg    0.320142\n",
       "3      Al    0.215306\n",
       "4      Si    0.100123\n",
       "5       K    0.000000\n",
       "6      Ca    0.133502\n",
       "7      Ba    0.026172\n",
       "8      Fe    0.014162"
      ]
     },
     "execution_count": 19,
     "metadata": {},
     "output_type": "execute_result"
    }
   ],
   "source": [
    "# 독립변수 중요도 확인\n",
    "\n",
    "dt_model.feature_importances_\n",
    "\n",
    "pd.DataFrame({'feature' : x_train.columns,\n",
    "\n",
    "              'importance' : dt_model.feature_importances_})\n",
    "\n",
    "#각 독립변수가 종속변수의 분류 예측에 얼마나 중요한지를 수치로 표현한다,.\n",
    "#합계는 1이 되며 값이 클수록 분류가 강한 영향을 미치는 것으로 판단한다.\n",
    "#아웃풋 결과에서는 마그네슘,알루미늄 등의 변수가 중요한 것으로 나타났다."
   ]
  },
  {
   "cell_type": "code",
   "execution_count": 20,
   "id": "67fd622a",
   "metadata": {},
   "outputs": [
    {
     "name": "stdout",
     "output_type": "stream",
     "text": [
      "0.7093023255813954\n"
     ]
    },
    {
     "name": "stderr",
     "output_type": "stream",
     "text": [
      "C:\\Users\\qorud\\AppData\\Local\\Temp\\ipykernel_24900\\1814673533.py:14: DataConversionWarning: A column-vector y was passed when a 1d array was expected. Please change the shape of y to (n_samples,), for example using ravel().\n",
      "  rnf_model.fit(x_train,y_train)\n",
      "C:\\Users\\qorud\\anaconda3\\Lib\\site-packages\\sklearn\\ensemble\\_forest.py:424: FutureWarning: `max_features='auto'` has been deprecated in 1.1 and will be removed in 1.3. To keep the past behaviour, explicitly set `max_features='sqrt'` or remove this parameter as it is also the default value for RandomForestClassifiers and ExtraTreesClassifiers.\n",
      "  warn(\n"
     ]
    }
   ],
   "source": [
    "# 랜덤포레스트 모델 생성\n",
    "\n",
    "# 기본 모델\n",
    "# rnf_model = RandomForestClassifier(n_estimators=100, max_depth=5,random_state=0)\n",
    "\n",
    "rnf_model = RandomForestClassifier(n_estimators=100, max_depth=5, random_state=0,\n",
    "                                   bootstrap=True, class_weight=None, criterion='gini',\n",
    "                                   max_features='auto', max_leaf_nodes=None,\n",
    "                                   min_impurity_decrease=0.0, min_samples_leaf=1, \n",
    "                                   min_samples_split=2, min_weight_fraction_leaf=0.0, \n",
    "                                   n_jobs=None, oob_score=False,  verbose=0,\n",
    "                                   warm_start=False)\n",
    "\n",
    "rnf_model.fit(x_train,y_train)\n",
    "\n",
    "y_pred = rnf_model.predict(x_test)\n",
    "print(accuracy_score(y_test,y_pred))\n",
    "\n",
    "#의사결정나무 모델을 앙상블한 랜덤포레스트 모델을 적용한다. 기본적인 모델은 주석 처리한 4번째 줄의 코드만으로도 생성이 가능하다.\n",
    "#세부적인 하이퍼 파라미터 튜닝을 위해서는 예시와 같은 다양한 옵션을 사용할 수 있다.\n",
    "#이번 실습에서는 지니계수로 학습을 시켰고 나머지는 거의 기본값으로 설정했다.\n",
    "#아웃풋 결과로 기존 의사결정나무보다 우수한 70.9%의 정확도가 나왔다."
   ]
  },
  {
   "cell_type": "code",
   "execution_count": 21,
   "id": "541fa086",
   "metadata": {},
   "outputs": [
    {
     "name": "stdout",
     "output_type": "stream",
     "text": [
      "              precision    recall  f1-score   support\n",
      "\n",
      "           1       0.69      0.73      0.71        30\n",
      "           2       0.62      0.77      0.69        26\n",
      "           3       0.67      0.29      0.40         7\n",
      "           5       1.00      0.75      0.86         8\n",
      "           6       0.50      0.25      0.33         4\n",
      "           7       0.91      0.91      0.91        11\n",
      "\n",
      "    accuracy                           0.71        86\n",
      "   macro avg       0.73      0.62      0.65        86\n",
      "weighted avg       0.72      0.71      0.70        86\n",
      "\n"
     ]
    }
   ],
   "source": [
    "# 랜덤포레스트 모델 성능 리포트 출력\n",
    "\n",
    "print(classification_report(y_test, y_pred))\n",
    "\n",
    "#다음 수치해석은 추후에 모델 평가 부분에서 다룬다."
   ]
  },
  {
   "cell_type": "code",
   "execution_count": 22,
   "id": "ab3e5e57",
   "metadata": {},
   "outputs": [
    {
     "data": {
      "text/plain": [
       "Al    0.159236\n",
       "Ca    0.153955\n",
       "Mg    0.148816\n",
       "RI    0.140340\n",
       "Na    0.107937\n",
       "Ba    0.090783\n",
       "K     0.079957\n",
       "Si    0.072258\n",
       "Fe    0.046717\n",
       "dtype: float64"
      ]
     },
     "execution_count": 22,
     "metadata": {},
     "output_type": "execute_result"
    }
   ],
   "source": [
    "# 랜덤포레스트 변수 중요도 출력\n",
    "\n",
    "feature_imp = pd.Series(rnf_model.feature_importances_, \n",
    "                        index=x_train.columns).sort_values(ascending=False)\n",
    "feature_imp[:20]"
   ]
  },
  {
   "cell_type": "code",
   "execution_count": 23,
   "id": "ec5df0f3",
   "metadata": {},
   "outputs": [
    {
     "data": {
      "image/png": "[encoded data removed]",
      "text/plain": [
       "<Figure size 800x600 with 1 Axes>"
      ]
     },
     "metadata": {},
     "output_type": "display_data"
    }
   ],
   "source": [
    "# 랜덤포레스트 변수 중요도 시각화\n",
    "\n",
    "plt.figure(figsize=(8, 6))\n",
    "sns.barplot(x=feature_imp, y=feature_imp.index)\n",
    "plt.show()\n",
    "\n",
    "#다음과 같이 직관적으로 볼 수 있게 막대그래프 형태로 시각화한다."
   ]
  },
  {
   "cell_type": "code",
   "execution_count": null,
   "id": "d24677d7",
   "metadata": {},
   "outputs": [],
   "source": []
  }
 ],
 "metadata": {
  "kernelspec": {
   "display_name": "Python 3 (ipykernel)",
   "language": "python",
   "name": "python3"
  },
  "language_info": {
   "codemirror_mode": {
    "name": "ipython",
    "version": 3
   },
   "file_extension": ".py",
   "mimetype": "text/x-python",
   "name": "python",
   "nbconvert_exporter": "python",
   "pygments_lexer": "ipython3",
   "version": "3.11.5"
  }
 },
 "nbformat": 4,
 "nbformat_minor": 5
}
