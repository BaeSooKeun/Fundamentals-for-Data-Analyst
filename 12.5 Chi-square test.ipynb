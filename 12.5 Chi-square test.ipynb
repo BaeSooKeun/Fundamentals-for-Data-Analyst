{
 "cells": [
  {
   "cell_type": "markdown",
   "id": "cc7ff67f",
   "metadata": {},
   "source": [
    "### 카이제곱 검정(교차분석)"
   ]
  },
  {
   "cell_type": "code",
   "execution_count": 1,
   "id": "9cc4ae3d",
   "metadata": {},
   "outputs": [],
   "source": [
    "# 필요한 패키지 설치\n",
    "\n",
    "import scipy.stats\n",
    "from scipy.stats import chi2_contingency\n",
    "import pandas as pd\n",
    "import matplotlib.pyplot as plt"
   ]
  },
  {
   "cell_type": "code",
   "execution_count": 3,
   "id": "edddc476",
   "metadata": {},
   "outputs": [
    {
     "data": {
      "text/html": [
       "<div>\n",
       "<style scoped>\n",
       "    .dataframe tbody tr th:only-of-type {\n",
       "        vertical-align: middle;\n",
       "    }\n",
       "\n",
       "    .dataframe tbody tr th {\n",
       "        vertical-align: top;\n",
       "    }\n",
       "\n",
       "    .dataframe thead th {\n",
       "        text-align: right;\n",
       "    }\n",
       "</style>\n",
       "<table border=\"1\" class=\"dataframe\">\n",
       "  <thead>\n",
       "    <tr style=\"text-align: right;\">\n",
       "      <th></th>\n",
       "      <th>sex</th>\n",
       "      <th>smoke</th>\n",
       "    </tr>\n",
       "  </thead>\n",
       "  <tbody>\n",
       "    <tr>\n",
       "      <th>0</th>\n",
       "      <td>male</td>\n",
       "      <td>Non-Smoker</td>\n",
       "    </tr>\n",
       "    <tr>\n",
       "      <th>1</th>\n",
       "      <td>male</td>\n",
       "      <td>Smoker</td>\n",
       "    </tr>\n",
       "    <tr>\n",
       "      <th>2</th>\n",
       "      <td>male</td>\n",
       "      <td>Non-Smoker</td>\n",
       "    </tr>\n",
       "    <tr>\n",
       "      <th>3</th>\n",
       "      <td>male</td>\n",
       "      <td>Smoker</td>\n",
       "    </tr>\n",
       "    <tr>\n",
       "      <th>4</th>\n",
       "      <td>male</td>\n",
       "      <td>Non-Smoker</td>\n",
       "    </tr>\n",
       "  </tbody>\n",
       "</table>\n",
       "</div>"
      ],
      "text/plain": [
       "    sex       smoke\n",
       "0  male  Non-Smoker\n",
       "1  male      Smoker\n",
       "2  male  Non-Smoker\n",
       "3  male      Smoker\n",
       "4  male  Non-Smoker"
      ]
     },
     "execution_count": 3,
     "metadata": {},
     "output_type": "execute_result"
    }
   ],
   "source": [
    "# 데이터 불러오기\n",
    "df = pd.read_csv(\"C:/Users/qorud/OneDrive/바탕 화면/Github/Data Analysis Method/smoker.csv\")\n",
    "\n",
    "# 데이터 샘플 확인\n",
    "df.head()"
   ]
  },
  {
   "cell_type": "code",
   "execution_count": 4,
   "id": "ab847d73",
   "metadata": {},
   "outputs": [
    {
     "data": {
      "text/plain": [
       "sex     smoke     \n",
       "female  Non-Smoker    50\n",
       "        Smoker        12\n",
       "male    Non-Smoker    40\n",
       "        Smoker        29\n",
       "Name: smoke, dtype: int64"
      ]
     },
     "execution_count": 4,
     "metadata": {},
     "output_type": "execute_result"
    }
   ],
   "source": [
    "# 항목 별 집계\n",
    "\n",
    "df.groupby(['sex','smoke'])['smoke'].count()\n",
    "\n",
    "#남성과 여성의 흡연자와 비흡연자수 현황을 확인하기 위해 groupby() 함수로 집계 데이터를 산출한다.\n",
    "#여성 62 중 12명이 흡연자 남성은 69명 중 29명이 흡연자이다."
   ]
  },
  {
   "cell_type": "code",
   "execution_count": 5,
   "id": "2d40299a",
   "metadata": {},
   "outputs": [
    {
     "data": {
      "text/html": [
       "<div>\n",
       "<style scoped>\n",
       "    .dataframe tbody tr th:only-of-type {\n",
       "        vertical-align: middle;\n",
       "    }\n",
       "\n",
       "    .dataframe tbody tr th {\n",
       "        vertical-align: top;\n",
       "    }\n",
       "\n",
       "    .dataframe thead th {\n",
       "        text-align: right;\n",
       "    }\n",
       "</style>\n",
       "<table border=\"1\" class=\"dataframe\">\n",
       "  <thead>\n",
       "    <tr style=\"text-align: right;\">\n",
       "      <th>smoke</th>\n",
       "      <th>Non-Smoker</th>\n",
       "      <th>Smoker</th>\n",
       "    </tr>\n",
       "    <tr>\n",
       "      <th>sex</th>\n",
       "      <th></th>\n",
       "      <th></th>\n",
       "    </tr>\n",
       "  </thead>\n",
       "  <tbody>\n",
       "    <tr>\n",
       "      <th>female</th>\n",
       "      <td>50</td>\n",
       "      <td>12</td>\n",
       "    </tr>\n",
       "    <tr>\n",
       "      <th>male</th>\n",
       "      <td>40</td>\n",
       "      <td>29</td>\n",
       "    </tr>\n",
       "  </tbody>\n",
       "</table>\n",
       "</div>"
      ],
      "text/plain": [
       "smoke   Non-Smoker  Smoker\n",
       "sex                       \n",
       "female          50      12\n",
       "male            40      29"
      ]
     },
     "execution_count": 5,
     "metadata": {},
     "output_type": "execute_result"
    }
   ],
   "source": [
    "# 카이제곱 검정용 데이터셋 가공\n",
    "\n",
    "crosstab = pd.crosstab(df.sex, df.smoke)\n",
    "crosstab\n",
    "\n",
    "#기존 데이터를 카이제곱 검정용 데이터셋으로 가공한다.(교차표의 형태로 가공했다)"
   ]
  },
  {
   "cell_type": "code",
   "execution_count": 6,
   "id": "b4097a5e",
   "metadata": {},
   "outputs": [
    {
     "data": {
      "image/png": "[encoded data removed]",
      "text/plain": [
       "<Figure size 1000x500 with 1 Axes>"
      ]
     },
     "metadata": {},
     "output_type": "display_data"
    }
   ],
   "source": [
    "# 성별 별 흡연자 수 시각화\n",
    "\n",
    "%matplotlib inline\n",
    "crosstab.plot(kind='bar', figsize=(10,5))\n",
    "plt.grid()\n",
    "\n",
    "#카이제곱 검정을 하기에 앞서 항목별 분포를 막대그래프로 시각화한다.\n",
    "#눈으로 봐도 남성과 여성의 비율 차이가 크게 나는 것을 알 수 있다.\n",
    "#이러한 차이가 통계적으로 유의미한 차이인지 다음 단계에서 카이제곱 검정을 수행한다."
   ]
  },
  {
   "cell_type": "code",
   "execution_count": 7,
   "id": "43595efb",
   "metadata": {},
   "outputs": [
    {
     "name": "stdout",
     "output_type": "stream",
     "text": [
      "Chi square: 7.8081404703715105\n",
      "P-value: 0.005201139711454792\n"
     ]
    }
   ],
   "source": [
    "# 카이제곱 검정\n",
    "\n",
    "chiresult = chi2_contingency(crosstab, correction=False)\n",
    "print('Chi square: {}'.format(chiresult[0]))\n",
    "print('P-value: {}'.format(chiresult[1]))\n",
    "\n",
    "#P-value가 0.0052로 성별에 따른 흡연자 비율 차이가 통계적으로 유의한 것으로 나타난다."
   ]
  }
 ],
 "metadata": {
  "kernelspec": {
   "display_name": "Python 3 (ipykernel)",
   "language": "python",
   "name": "python3"
  },
  "language_info": {
   "codemirror_mode": {
    "name": "ipython",
    "version": 3
   },
   "file_extension": ".py",
   "mimetype": "text/x-python",
   "name": "python",
   "nbconvert_exporter": "python",
   "pygments_lexer": "ipython3",
   "version": "3.9.13"
  }
 },
 "nbformat": 4,
 "nbformat_minor": 5
}
