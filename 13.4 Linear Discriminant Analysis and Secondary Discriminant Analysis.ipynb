{
 "cells": [
  {
   "cell_type": "markdown",
   "id": "874fbd89",
   "metadata": {},
   "source": [
    "### 선형 판별분석과 이차 판별분석"
   ]
  },
  {
   "cell_type": "code",
   "execution_count": 1,
   "id": "dd670d71",
   "metadata": {},
   "outputs": [],
   "source": [
    "# 필요한 패키지 설치\n",
    "\n",
    "import pandas as pd\n",
    "import numpy as np\n",
    "from sklearn.preprocessing import MinMaxScaler\n",
    "from sklearn.model_selection import train_test_split\n",
    "from sklearn.discriminant_analysis import LinearDiscriminantAnalysis\n",
    "from sklearn.metrics import accuracy_score\n",
    "from sklearn.discriminant_analysis import QuadraticDiscriminantAnalysis\n",
    "from sklearn.metrics import classification_report\n",
    "import seaborn as sns\n",
    "import matplotlib.pyplot as plt"
   ]
  },
  {
   "cell_type": "code",
   "execution_count": 2,
   "id": "79b44c24",
   "metadata": {},
   "outputs": [
    {
     "data": {
      "text/html": [
       "<div>\n",
       "<style scoped>\n",
       "    .dataframe tbody tr th:only-of-type {\n",
       "        vertical-align: middle;\n",
       "    }\n",
       "\n",
       "    .dataframe tbody tr th {\n",
       "        vertical-align: top;\n",
       "    }\n",
       "\n",
       "    .dataframe thead th {\n",
       "        text-align: right;\n",
       "    }\n",
       "</style>\n",
       "<table border=\"1\" class=\"dataframe\">\n",
       "  <thead>\n",
       "    <tr style=\"text-align: right;\">\n",
       "      <th></th>\n",
       "      <th>age</th>\n",
       "      <th>gender</th>\n",
       "      <th>height_cm</th>\n",
       "      <th>weight_kg</th>\n",
       "      <th>body fat_%</th>\n",
       "      <th>diastolic</th>\n",
       "      <th>systolic</th>\n",
       "      <th>gripForce</th>\n",
       "      <th>sit and bend forward_cm</th>\n",
       "      <th>sit-ups counts</th>\n",
       "      <th>broad jump_cm</th>\n",
       "      <th>class</th>\n",
       "    </tr>\n",
       "  </thead>\n",
       "  <tbody>\n",
       "    <tr>\n",
       "      <th>0</th>\n",
       "      <td>27.0</td>\n",
       "      <td>M</td>\n",
       "      <td>172.3</td>\n",
       "      <td>75.24</td>\n",
       "      <td>21.3</td>\n",
       "      <td>80.0</td>\n",
       "      <td>130.0</td>\n",
       "      <td>54.9</td>\n",
       "      <td>18.4</td>\n",
       "      <td>60.0</td>\n",
       "      <td>217.0</td>\n",
       "      <td>C</td>\n",
       "    </tr>\n",
       "    <tr>\n",
       "      <th>1</th>\n",
       "      <td>25.0</td>\n",
       "      <td>M</td>\n",
       "      <td>165.0</td>\n",
       "      <td>55.80</td>\n",
       "      <td>15.7</td>\n",
       "      <td>77.0</td>\n",
       "      <td>126.0</td>\n",
       "      <td>36.4</td>\n",
       "      <td>16.3</td>\n",
       "      <td>53.0</td>\n",
       "      <td>229.0</td>\n",
       "      <td>A</td>\n",
       "    </tr>\n",
       "    <tr>\n",
       "      <th>2</th>\n",
       "      <td>31.0</td>\n",
       "      <td>M</td>\n",
       "      <td>179.6</td>\n",
       "      <td>78.00</td>\n",
       "      <td>20.1</td>\n",
       "      <td>92.0</td>\n",
       "      <td>152.0</td>\n",
       "      <td>44.8</td>\n",
       "      <td>12.0</td>\n",
       "      <td>49.0</td>\n",
       "      <td>181.0</td>\n",
       "      <td>C</td>\n",
       "    </tr>\n",
       "    <tr>\n",
       "      <th>3</th>\n",
       "      <td>32.0</td>\n",
       "      <td>M</td>\n",
       "      <td>174.5</td>\n",
       "      <td>71.10</td>\n",
       "      <td>18.4</td>\n",
       "      <td>76.0</td>\n",
       "      <td>147.0</td>\n",
       "      <td>41.4</td>\n",
       "      <td>15.2</td>\n",
       "      <td>53.0</td>\n",
       "      <td>219.0</td>\n",
       "      <td>B</td>\n",
       "    </tr>\n",
       "    <tr>\n",
       "      <th>4</th>\n",
       "      <td>28.0</td>\n",
       "      <td>M</td>\n",
       "      <td>173.8</td>\n",
       "      <td>67.70</td>\n",
       "      <td>17.1</td>\n",
       "      <td>70.0</td>\n",
       "      <td>127.0</td>\n",
       "      <td>43.5</td>\n",
       "      <td>27.1</td>\n",
       "      <td>45.0</td>\n",
       "      <td>217.0</td>\n",
       "      <td>B</td>\n",
       "    </tr>\n",
       "  </tbody>\n",
       "</table>\n",
       "</div>"
      ],
      "text/plain": [
       "    age gender  height_cm  weight_kg  body fat_%  diastolic  systolic  \\\n",
       "0  27.0      M      172.3      75.24        21.3       80.0     130.0   \n",
       "1  25.0      M      165.0      55.80        15.7       77.0     126.0   \n",
       "2  31.0      M      179.6      78.00        20.1       92.0     152.0   \n",
       "3  32.0      M      174.5      71.10        18.4       76.0     147.0   \n",
       "4  28.0      M      173.8      67.70        17.1       70.0     127.0   \n",
       "\n",
       "   gripForce  sit and bend forward_cm  sit-ups counts  broad jump_cm class  \n",
       "0       54.9                     18.4            60.0          217.0     C  \n",
       "1       36.4                     16.3            53.0          229.0     A  \n",
       "2       44.8                     12.0            49.0          181.0     C  \n",
       "3       41.4                     15.2            53.0          219.0     B  \n",
       "4       43.5                     27.1            45.0          217.0     B  "
      ]
     },
     "execution_count": 2,
     "metadata": {},
     "output_type": "execute_result"
    }
   ],
   "source": [
    "# 데이터 불러오기\n",
    "# https://www.kaggle.com/datasets/kukuroo3/body-performance-data\n",
    "df = pd.read_csv(\"bodyPerformance.csv\")\n",
    "\n",
    "# 데이터 샘플 확인\n",
    "df.head()"
   ]
  },
  {
   "cell_type": "code",
   "execution_count": 17,
   "id": "a5de78b4",
   "metadata": {},
   "outputs": [
    {
     "name": "stderr",
     "output_type": "stream",
     "text": [
      "C:\\Users\\qorud\\AppData\\Local\\Temp\\ipykernel_20764\\9917972.py:12: FutureWarning: \n",
      "\n",
      "`shade` is now deprecated in favor of `fill`; setting `fill=True`.\n",
      "This will become an error in seaborn v0.14.0; please update your code.\n",
      "\n",
      "  ax = sns.kdeplot(x=df_man['height_cm'], y=df_man['weight_kg'], cmap=\"Blues\",\n",
      "C:\\Users\\qorud\\AppData\\Local\\Temp\\ipykernel_20764\\9917972.py:14: FutureWarning: \n",
      "\n",
      "`shade` is now deprecated in favor of `fill`; setting `fill=True`.\n",
      "This will become an error in seaborn v0.14.0; please update your code.\n",
      "\n",
      "  ax = sns.kdeplot(x=df_woman['height_cm'], y=df_woman['weight_kg'], cmap=\"Reds\",\n"
     ]
    },
    {
     "data": {
      "text/plain": [
       "<matplotlib.legend.Legend at 0x1d58eda17d0>"
      ]
     },
     "execution_count": 17,
     "metadata": {},
     "output_type": "execute_result"
    },
    {
     "data": {
      "image/png": "[encoded data removed]",
      "text/plain": [
       "<Figure size 1000x1000 with 1 Axes>"
      ]
     },
     "metadata": {},
     "output_type": "display_data"
    }
   ],
   "source": [
    "# 성별 분포 시각화 (키X몸무게)\n",
    "\n",
    "# 성별 구분 데이터셋 생성\n",
    "df_man = df.loc[df['gender'] == 'M']\n",
    "df_woman = df.loc[df['gender'] == 'F']\n",
    "\n",
    "# 그래프 설정\n",
    "f, ax = plt.subplots(figsize=(10, 10))\n",
    "ax.set_aspect(\"equal\")\n",
    "\n",
    "# 가로길이, 세로길이 변수 축 설정\n",
    "ax = sns.kdeplot(x=df_man['height_cm'], y=df_man['weight_kg'], cmap=\"Blues\", \n",
    "                 shade=True, thresh=0.05, cbar=False,fill=False) \n",
    "ax = sns.kdeplot(x=df_woman['height_cm'], y=df_woman['weight_kg'], cmap=\"Reds\", \n",
    "                 shade=True, thresh=0.05, cbar=False,fill=False)\n",
    "\n",
    "red = sns.color_palette(\"Reds\")[-2]\n",
    "blue = sns.color_palette(\"Blues\")[-2]\n",
    "\n",
    "ax.legend(['Men', 'Women'], facecolor='w')\n"
   ]
  },
  {
   "cell_type": "markdown",
   "id": "c884cf14",
   "metadata": {},
   "source": [
    "#### 주요독립변수로 판단되는 키와 몸무게 칼럼의 수치에 따라 남성과 여성의 분포가 어떻게 나타나는지 확인한다. 남성은 키가 약 175cm 몸무게가 70kg 부근에 주로 분포해 있고 여성은 키 162cm 몸무게 55kg 부근에 주로 분포해 있다. 그리고 일부 공간은 성별이 겹쳐 있는 것을 알 수 있다."
   ]
  },
  {
   "cell_type": "code",
   "execution_count": 6,
   "id": "321ef317",
   "metadata": {},
   "outputs": [
    {
     "data": {
      "text/html": [
       "<div>\n",
       "<style scoped>\n",
       "    .dataframe tbody tr th:only-of-type {\n",
       "        vertical-align: middle;\n",
       "    }\n",
       "\n",
       "    .dataframe tbody tr th {\n",
       "        vertical-align: top;\n",
       "    }\n",
       "\n",
       "    .dataframe thead th {\n",
       "        text-align: right;\n",
       "    }\n",
       "</style>\n",
       "<table border=\"1\" class=\"dataframe\">\n",
       "  <thead>\n",
       "    <tr style=\"text-align: right;\">\n",
       "      <th></th>\n",
       "      <th>height_cm</th>\n",
       "      <th>weight_kg</th>\n",
       "      <th>body fat_%</th>\n",
       "      <th>diastolic</th>\n",
       "      <th>systolic</th>\n",
       "      <th>gripForce</th>\n",
       "      <th>sit and bend forward_cm</th>\n",
       "      <th>sit-ups counts</th>\n",
       "      <th>broad jump_cm</th>\n",
       "    </tr>\n",
       "  </thead>\n",
       "  <tbody>\n",
       "    <tr>\n",
       "      <th>0</th>\n",
       "      <td>0.687500</td>\n",
       "      <td>0.437746</td>\n",
       "      <td>0.242706</td>\n",
       "      <td>0.512164</td>\n",
       "      <td>0.646766</td>\n",
       "      <td>0.778723</td>\n",
       "      <td>0.182353</td>\n",
       "      <td>0.7500</td>\n",
       "      <td>0.716172</td>\n",
       "    </tr>\n",
       "    <tr>\n",
       "      <th>1</th>\n",
       "      <td>0.581395</td>\n",
       "      <td>0.263864</td>\n",
       "      <td>0.168435</td>\n",
       "      <td>0.492958</td>\n",
       "      <td>0.626866</td>\n",
       "      <td>0.516312</td>\n",
       "      <td>0.173529</td>\n",
       "      <td>0.6625</td>\n",
       "      <td>0.755776</td>\n",
       "    </tr>\n",
       "    <tr>\n",
       "      <th>2</th>\n",
       "      <td>0.793605</td>\n",
       "      <td>0.462433</td>\n",
       "      <td>0.226790</td>\n",
       "      <td>0.588988</td>\n",
       "      <td>0.756219</td>\n",
       "      <td>0.635461</td>\n",
       "      <td>0.155462</td>\n",
       "      <td>0.6125</td>\n",
       "      <td>0.597360</td>\n",
       "    </tr>\n",
       "    <tr>\n",
       "      <th>3</th>\n",
       "      <td>0.719477</td>\n",
       "      <td>0.400716</td>\n",
       "      <td>0.204244</td>\n",
       "      <td>0.486556</td>\n",
       "      <td>0.731343</td>\n",
       "      <td>0.587234</td>\n",
       "      <td>0.168908</td>\n",
       "      <td>0.6625</td>\n",
       "      <td>0.722772</td>\n",
       "    </tr>\n",
       "    <tr>\n",
       "      <th>4</th>\n",
       "      <td>0.709302</td>\n",
       "      <td>0.370304</td>\n",
       "      <td>0.187003</td>\n",
       "      <td>0.448143</td>\n",
       "      <td>0.631841</td>\n",
       "      <td>0.617021</td>\n",
       "      <td>0.218908</td>\n",
       "      <td>0.5625</td>\n",
       "      <td>0.716172</td>\n",
       "    </tr>\n",
       "  </tbody>\n",
       "</table>\n",
       "</div>"
      ],
      "text/plain": [
       "   height_cm  weight_kg  body fat_%  diastolic  systolic  gripForce  \\\n",
       "0   0.687500   0.437746    0.242706   0.512164  0.646766   0.778723   \n",
       "1   0.581395   0.263864    0.168435   0.492958  0.626866   0.516312   \n",
       "2   0.793605   0.462433    0.226790   0.588988  0.756219   0.635461   \n",
       "3   0.719477   0.400716    0.204244   0.486556  0.731343   0.587234   \n",
       "4   0.709302   0.370304    0.187003   0.448143  0.631841   0.617021   \n",
       "\n",
       "   sit and bend forward_cm  sit-ups counts  broad jump_cm  \n",
       "0                 0.182353          0.7500       0.716172  \n",
       "1                 0.173529          0.6625       0.755776  \n",
       "2                 0.155462          0.6125       0.597360  \n",
       "3                 0.168908          0.6625       0.722772  \n",
       "4                 0.218908          0.5625       0.716172  "
      ]
     },
     "execution_count": 6,
     "metadata": {},
     "output_type": "execute_result"
    }
   ],
   "source": [
    "# 독립변수 정규화\n",
    "\n",
    "# 독립변수, 종속변수 분리\n",
    "df_x = df.drop(['gender','age','class'],axis=1)\n",
    "df_y = df[['gender']]\n",
    "\n",
    "# 데이터 정규화 적용\n",
    "MinMaxScaler = MinMaxScaler()\n",
    "df_minmax = MinMaxScaler.fit_transform(df_x)\n",
    "\n",
    "# 컬럼명 결합\n",
    "df_x = pd.DataFrame(data=df_minmax, columns=df_x.columns)\n",
    "\n",
    "df_x.head()"
   ]
  },
  {
   "cell_type": "markdown",
   "id": "da58e54c",
   "metadata": {},
   "source": [
    "#### 선형 판별분석과 이차 판별분석 모델을 적용하기에 앞서 독립변수를 정규화 스케일링 해준다. 독립변수에는 중요하지 않을 것으로 판단되는 연령과 클래스 칼럼도 제거해 주었다. 실제로 모델을 만들때는 해당 변수가 정말로 영향이 없는지 확인한 후에 제거해 줘야한다."
   ]
  },
  {
   "cell_type": "code",
   "execution_count": 7,
   "id": "dffbe1ab",
   "metadata": {},
   "outputs": [
    {
     "name": "stdout",
     "output_type": "stream",
     "text": [
      "train data 개수:  9375\n",
      "test data 개수:  4018\n"
     ]
    }
   ],
   "source": [
    "# 학습셋과 테스트셋 분리하여 생성(7:3)\n",
    "x_train, x_test, y_train, y_test = train_test_split(\n",
    "    df_x,df_y,test_size=0.3,random_state=10)\n",
    "\n",
    "# 학습셋과 검증셋이 잘 나뉘었는지 확인\n",
    "print('train data 개수: ', len(x_train))\n",
    "print('test data 개수: ', len(x_test))"
   ]
  },
  {
   "cell_type": "markdown",
   "id": "4573ff90",
   "metadata": {},
   "source": [
    "#### 스케일링을 한 후에는 7:3 비율로 학습셋과 테스트셋으로 분리한다"
   ]
  },
  {
   "cell_type": "code",
   "execution_count": 8,
   "id": "a0a9ab65",
   "metadata": {},
   "outputs": [
    {
     "name": "stdout",
     "output_type": "stream",
     "text": [
      "0.9784533333333333\n",
      "0.9810851169736187\n"
     ]
    },
    {
     "name": "stderr",
     "output_type": "stream",
     "text": [
      "C:\\Users\\qorud\\anaconda3\\Lib\\site-packages\\sklearn\\utils\\validation.py:1143: DataConversionWarning: A column-vector y was passed when a 1d array was expected. Please change the shape of y to (n_samples, ), for example using ravel().\n",
      "  y = column_or_1d(y, warn=True)\n"
     ]
    }
   ],
   "source": [
    "# 선형 판별분석 모델 적용\n",
    "\n",
    "LDA_1=LinearDiscriminantAnalysis(store_covariance=True)\n",
    "\n",
    "LDA_1.fit(x_train, y_train) # LDA 적합\n",
    "y_train_pred=LDA_1.predict(x_train)\n",
    "y_test_pred=LDA_1.predict(x_test)\n",
    "\n",
    "print(accuracy_score(y_train, y_train_pred)) # 학습셋 accuracy\n",
    "print(accuracy_score(y_test, y_test_pred)) # 테스트셋 accuracy"
   ]
  },
  {
   "cell_type": "markdown",
   "id": "bb00aec1",
   "metadata": {},
   "source": [
    "#### 데이터 전처리가 끝난 상태에서 함수를 통해 선형판별분석 모델을 생성하여 데이터 셋에 적용해 준다. 아웃풋 결과로 학습셋은 97.8% 테스트셋은 98.1%의 정확도를 나타냈다. 신체 정보는 성별분류에 명확한 정보이기 때문에 예측력이 매우 높게 나왔다."
   ]
  },
  {
   "cell_type": "code",
   "execution_count": 9,
   "id": "74455192",
   "metadata": {},
   "outputs": [
    {
     "name": "stdout",
     "output_type": "stream",
     "text": [
      "Intercept:  [-14.29894437]\n",
      "Coefficient:  [[ -1.35700815  26.12716198 -29.708912     4.0661269   10.03194981\n",
      "   18.0750803  -57.34544185  -3.81399695  15.48677609]]\n"
     ]
    }
   ],
   "source": [
    "# 선형 판별분석 모델 상수와 계수 값 출력\n",
    "\n",
    "print('Intercept: ', LDA_1.intercept_)\n",
    "print('Coefficient: ', LDA_1.coef_)"
   ]
  },
  {
   "cell_type": "markdown",
   "id": "42163dad",
   "metadata": {},
   "source": [
    "#### 앞의 이론 부분에서 다뤘던 선형 판별분석 모델의 상수와 계숫값을 산출했다. 모델에 투입됐던 9개의 독립변수의 수치와 이 값들을 계산해 주면 각 관측치의 예측 범주를 계산할 수 있다.\n",
    "#### 선형회귀 모델의 회귀계수와 동일한 원리다."
   ]
  },
  {
   "cell_type": "code",
   "execution_count": 10,
   "id": "67162167",
   "metadata": {},
   "outputs": [
    {
     "name": "stderr",
     "output_type": "stream",
     "text": [
      "C:\\Users\\qorud\\anaconda3\\Lib\\site-packages\\sklearn\\utils\\validation.py:1143: DataConversionWarning: A column-vector y was passed when a 1d array was expected. Please change the shape of y to (n_samples, ), for example using ravel().\n",
      "  y = column_or_1d(y, warn=True)\n",
      "C:\\Users\\qorud\\AppData\\Local\\Temp\\ipykernel_20764\\3780834705.py:17: UserWarning: \n",
      "\n",
      "`distplot` is a deprecated function and will be removed in seaborn v0.14.0.\n",
      "\n",
      "Please adapt your code to use either `displot` (a figure-level function with\n",
      "similar flexibility) or `histplot` (an axes-level function for histograms).\n",
      "\n",
      "For a guide to updating your code to use the new functions, please see\n",
      "https://gist.github.com/mwaskom/de44147ed2974457ad6372750bbe5751\n",
      "\n",
      "  sns.distplot(df.loc[df['gender'] == 'M', 'height_cm'],\n",
      "C:\\Users\\qorud\\AppData\\Local\\Temp\\ipykernel_20764\\3780834705.py:20: UserWarning: \n",
      "\n",
      "`distplot` is a deprecated function and will be removed in seaborn v0.14.0.\n",
      "\n",
      "Please adapt your code to use either `displot` (a figure-level function with\n",
      "similar flexibility) or `histplot` (an axes-level function for histograms).\n",
      "\n",
      "For a guide to updating your code to use the new functions, please see\n",
      "https://gist.github.com/mwaskom/de44147ed2974457ad6372750bbe5751\n",
      "\n",
      "  sns.distplot(df.loc[df['gender'] == 'F', 'height_cm'],\n",
      "C:\\Users\\qorud\\AppData\\Local\\Temp\\ipykernel_20764\\3780834705.py:25: UserWarning: \n",
      "\n",
      "`distplot` is a deprecated function and will be removed in seaborn v0.14.0.\n",
      "\n",
      "Please adapt your code to use either `displot` (a figure-level function with\n",
      "similar flexibility) or `histplot` (an axes-level function for histograms).\n",
      "\n",
      "For a guide to updating your code to use the new functions, please see\n",
      "https://gist.github.com/mwaskom/de44147ed2974457ad6372750bbe5751\n",
      "\n",
      "  sns.distplot(df_lda_component.loc[df_lda_component['target'] == 'M', 'lda_component'],\n",
      "C:\\Users\\qorud\\AppData\\Local\\Temp\\ipykernel_20764\\3780834705.py:27: UserWarning: \n",
      "\n",
      "`distplot` is a deprecated function and will be removed in seaborn v0.14.0.\n",
      "\n",
      "Please adapt your code to use either `displot` (a figure-level function with\n",
      "similar flexibility) or `histplot` (an axes-level function for histograms).\n",
      "\n",
      "For a guide to updating your code to use the new functions, please see\n",
      "https://gist.github.com/mwaskom/de44147ed2974457ad6372750bbe5751\n",
      "\n",
      "  sns.distplot(df_lda_component.loc[df_lda_component['target'] == 'F', 'lda_component'],\n"
     ]
    },
    {
     "data": {
      "text/plain": [
       "<Axes: xlabel='lda_component'>"
      ]
     },
     "execution_count": 10,
     "metadata": {},
     "output_type": "execute_result"
    },
    {
     "data": {
      "image/png": "[encoded data removed]",
      "text/plain": [
       "<Figure size 1600x800 with 2 Axes>"
      ]
     },
     "metadata": {},
     "output_type": "display_data"
    }
   ],
   "source": [
    "# 선형 판별분석 차원축소 적용\n",
    "\n",
    "# 주성분 한개로 설정\n",
    "lda_com = LinearDiscriminantAnalysis(n_components=1)\n",
    "lda_com.fit(x_train, y_train)\n",
    "df_lda_com = lda_com.transform(x_train)\n",
    "df_lda_component = pd.DataFrame(df_lda_com,columns=['lda_component'])\n",
    "\n",
    "# 종속변수 데이터셋 인덱스 초기화 및 결합\n",
    "y_train_index = y_train.reset_index()\n",
    "df_lda_component['target'] = y_train_index['gender']\n",
    "\n",
    "# 차원축소 요소 분별력 비교 시각화 설정\n",
    "fig, axs = plt.subplots(figsize=(16,8) , ncols=2 , nrows=1)\n",
    "\n",
    "# 키 요소의 분별력\n",
    "sns.distplot(df.loc[df['gender'] == 'M', 'height_cm'], \n",
    "             hist=True, kde=False, color=\"blue\", \n",
    "             label = 'man', ax=axs[0])\n",
    "sns.distplot(df.loc[df['gender'] == 'F', 'height_cm'], \n",
    "             hist=True, kde=False, color=\"orange\", \n",
    "             label = 'woman', ax=axs[0])\n",
    "\n",
    "# 차원축소 주성분의 분별력\n",
    "sns.distplot(df_lda_component.loc[df_lda_component['target'] == 'M', 'lda_component'], \n",
    "             hist=True, kde=False, color=\"blue\", label = 'man', ax=axs[1])\n",
    "sns.distplot(df_lda_component.loc[df_lda_component['target'] == 'F', 'lda_component'], \n",
    "             hist=True, kde=False, color=\"orange\", label = 'woman', ax=axs[1])"
   ]
  },
  {
   "cell_type": "markdown",
   "id": "a280f24e",
   "metadata": {},
   "source": [
    "#### 이번에는 선형판별분석 모델을 통해 차원축소를 한다. n_components=1 옵션으로 9개의 독립변수를 단 하나의 차원으로 축소했다. 그리고 산출한 주성분이 실제 성별 구분을 잘하는지 확인하기 위해 기존의 키 변수와 주성분을 시각화하여 비교했다. 왼쪽의 키 변수는 남성과 여성이 중복되는 공간이 눈으로 봐도 크지만, 주성분은 매우 적은 부분만 중복되는 것을 확인할 수있다."
   ]
  },
  {
   "cell_type": "code",
   "execution_count": 11,
   "id": "c99d3def",
   "metadata": {},
   "outputs": [
    {
     "name": "stdout",
     "output_type": "stream",
     "text": [
      "0.98048\n",
      "0.9798407167745147\n"
     ]
    },
    {
     "name": "stderr",
     "output_type": "stream",
     "text": [
      "C:\\Users\\qorud\\anaconda3\\Lib\\site-packages\\sklearn\\utils\\validation.py:1143: DataConversionWarning: A column-vector y was passed when a 1d array was expected. Please change the shape of y to (n_samples, ), for example using ravel().\n",
      "  y = column_or_1d(y, warn=True)\n"
     ]
    }
   ],
   "source": [
    "# 이차 판별분석 모델 적용\n",
    "\n",
    "qda=QuadraticDiscriminantAnalysis(store_covariance=True)\n",
    "\n",
    "qda.fit(x_train, y_train) # QDA 적합\n",
    "qda_y_train_pred=qda.predict(x_train)\n",
    "qda_y_test_pred=qda.predict(x_test)\n",
    "\n",
    "\n",
    "print(accuracy_score(y_train, qda_y_train_pred)) # 학습셋 accuracy\n",
    "print(accuracy_score(y_test, qda_y_test_pred)) # 예측셋 accuracy\n"
   ]
  },
  {
   "cell_type": "markdown",
   "id": "67fe8b52",
   "metadata": {},
   "source": [
    "###### 다음으로 함수를 통해 이차판별분석 모델을 생성하여 데이터셋에 적용해 준다.아웃풋 결과로 학습셋은 98%,테스트셋은 97.9%의 정확도를 나타냈다.이번 실습 데이터셋에서는 선형 판별분석과 이차 판별분석의 분류 예측력이 유사하게 나왔다.하지만 범주의 공분산이 많이 다른 데이터 경우 이차 판별분석이 더 높은 성능을 보이는 경우가 많다."
   ]
  },
  {
   "cell_type": "code",
   "execution_count": 12,
   "id": "6ea04e64",
   "metadata": {},
   "outputs": [
    {
     "name": "stdout",
     "output_type": "stream",
     "text": [
      "              precision    recall  f1-score   support\n",
      "\n",
      "           F       0.97      0.97      0.97      1463\n",
      "           M       0.98      0.98      0.98      2555\n",
      "\n",
      "    accuracy                           0.98      4018\n",
      "   macro avg       0.98      0.98      0.98      4018\n",
      "weighted avg       0.98      0.98      0.98      4018\n",
      "\n"
     ]
    }
   ],
   "source": [
    "# 이차 판별분석 모델 성능 리포트 출력\n",
    "\n",
    "print(classification_report(y_test, qda_y_test_pred))"
   ]
  }
 ],
 "metadata": {
  "kernelspec": {
   "display_name": "Python 3 (ipykernel)",
   "language": "python",
   "name": "python3"
  },
  "language_info": {
   "codemirror_mode": {
    "name": "ipython",
    "version": 3
   },
   "file_extension": ".py",
   "mimetype": "text/x-python",
   "name": "python",
   "nbconvert_exporter": "python",
   "pygments_lexer": "ipython3",
   "version": "3.11.5"
  }
 },
 "nbformat": 4,
 "nbformat_minor": 5
}
